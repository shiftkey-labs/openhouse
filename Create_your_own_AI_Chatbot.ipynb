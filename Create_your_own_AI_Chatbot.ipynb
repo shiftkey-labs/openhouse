{
  "nbformat": 4,
  "nbformat_minor": 0,
  "metadata": {
    "colab": {
      "provenance": [],
      "authorship_tag": "ABX9TyPirk/nX9jTsWyB5VWS0s/9",
      "include_colab_link": true
    },
    "kernelspec": {
      "name": "python3",
      "display_name": "Python 3"
    },
    "language_info": {
      "name": "python"
    }
  },
  "cells": [
    {
      "cell_type": "markdown",
      "metadata": {
        "id": "view-in-github",
        "colab_type": "text"
      },
      "source": [
        "<a href=\"https://colab.research.google.com/github/shiftkey-labs/openhouse/blob/main/Create_your_own_AI_Chatbot.ipynb\" target=\"_parent\"><img src=\"https://colab.research.google.com/assets/colab-badge.svg\" alt=\"Open In Colab\"/></a>"
      ]
    },
    {
      "cell_type": "markdown",
      "source": [
        "# Introduction\n",
        "This code provides a simple implementation of an interactive chatbot using OpenAI’s API. It creates a conversational loop where the user can communicate with an AI assistant powered by OpenAI's gpt-4o-mini model."
      ],
      "metadata": {
        "id": "W21y3aIZ5fjj"
      }
    },
    {
      "cell_type": "code",
      "execution_count": null,
      "metadata": {
        "id": "4ZatbM414yk7"
      },
      "outputs": [],
      "source": [
        "from openai import OpenAI"
      ]
    },
    {
      "cell_type": "markdown",
      "source": [
        "Setup and Initialization:"
      ],
      "metadata": {
        "id": "x9uKIeCF5pHn"
      }
    },
    {
      "cell_type": "code",
      "source": [
        "key = \"\"\n",
        "\n",
        "client = OpenAI(\n",
        "    api_key=key\n",
        ")"
      ],
      "metadata": {
        "id": "aNZvwlU3445p"
      },
      "execution_count": null,
      "outputs": []
    },
    {
      "cell_type": "code",
      "source": [
        "#The coversation_histroy stores the entire conversation.\n",
        "conversation_history = [\n",
        "    {\"role\": \"system\",\n",
        "     \"content\": \"\"}\n",
        "]"
      ],
      "metadata": {
        "id": "wQULOg6w5AuP"
      },
      "execution_count": null,
      "outputs": []
    },
    {
      "cell_type": "code",
      "source": [
        "def talkToMe(prompt):\n",
        "    # Add the user's message to the conversation history\n",
        "    conversation_history.append({\"role\": \"user\", \"content\": prompt})\n",
        "\n",
        "    # Make the API call with the updated conversation history\n",
        "    completion = client.chat.completions.create(\n",
        "        model=\"gpt-4o-mini\",\n",
        "        messages=conversation_history\n",
        "    )\n",
        "\n",
        "    # Get the assistant's reply\n",
        "    assistant_reply = completion.choices[0].message.content\n",
        "    # Add the assistant's reply to the conversation history\n",
        "    conversation_history.append({\"role\": \"assistant\", \"content\": assistant_reply})\n",
        "\n",
        "    return assistant_reply"
      ],
      "metadata": {
        "id": "9MqD2kOV5DPY"
      },
      "execution_count": null,
      "outputs": []
    },
    {
      "cell_type": "code",
      "source": [
        "while True:\n",
        "  userInput = input(\"You: \")\n",
        "  if userInput in [\"quit\",\"exit\", \"bye\", \"end\"]:\n",
        "    break\n",
        "\n",
        "  response = talkToMe(userInput)\n",
        "  print(\"AI Assistant: \", response)"
      ],
      "metadata": {
        "id": "hPBEU3aN5FDg"
      },
      "execution_count": null,
      "outputs": []
    }
  ]
}